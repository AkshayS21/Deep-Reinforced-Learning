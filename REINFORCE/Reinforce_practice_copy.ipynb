{
 "cells": [
  {
   "cell_type": "markdown",
   "metadata": {},
   "source": [
    "### REINFORCE\n",
    "\n",
    "Increase the winning probabilities and decrease the losing probabilities using the Expeted U gradient ascent function.\n",
    "\n",
    "theta = theata plus grad-theta(Exp U)\n",
    "\n",
    "Expected U = 1/m Sigma(1 to m) Sigma(1 to H) (Derivative w.r.t. theta of log prob (at/st) times expected reward)"
   ]
  },
  {
   "cell_type": "code",
   "execution_count": 1,
   "metadata": {},
   "outputs": [],
   "source": [
    "## Libraries\n",
    "\n",
    "import numpy as np\n",
    "import torch\n",
    "import torch.nn as nn\n",
    "import torch.nn.functional as F\n",
    "\n",
    "from collections import deque\n",
    "import gym\n",
    "import matplotlib.pyplot as plt\n",
    "\n"
   ]
  },
  {
   "cell_type": "code",
   "execution_count": 2,
   "metadata": {},
   "outputs": [],
   "source": [
    "torch.manual_seed(0)\n",
    "\n",
    "import torch.optim as optim\n",
    "from torch.distributions import Categorical"
   ]
  },
  {
   "cell_type": "code",
   "execution_count": 24,
   "metadata": {},
   "outputs": [],
   "source": [
    "env = gym.make(\"CartPole-v0\")\n",
    "env.seed(0)\n",
    "\n",
    "device = torch.device(\"cuda:0\" if torch.cuda.is_available() else \"cpu\")\n",
    "\n",
    "class Policy(nn.Module):\n",
    "    \n",
    "    def __init__(self, s_size = 4, h_size = 16, a_size = 2):\n",
    "        super(Policy, self).__init__()\n",
    "        self.s_size = s_size\n",
    "        self.h_size = h_size\n",
    "        self.a_size = a_size\n",
    "            \n",
    "        self.fc1 = nn.Linear(s_size, h_size)\n",
    "        self.fc2 = nn.Linear(h_size,a_size)\n",
    "            \n",
    "    def forward(self,x):\n",
    "        \n",
    "        x = F.relu(self.fc1(x))\n",
    "        x = self.fc2(x)\n",
    "        return F.softmax(x,dim = 1) # final tensor must be (1,2)\n",
    "    \n",
    "    def act(self, state):\n",
    "        \n",
    "        state = torch.from_numpy(state).float().unsqueeze(0).to(device)\n",
    "        # state going in is (1,4) depends on how torch takes inputs\n",
    "        \n",
    "        probs = self.forward(state).cpu()\n",
    "        m = Categorical(probs)\n",
    "        action = m.sample()\n",
    "        return action.item(), m.log_prob(action)\n",
    "            \n",
    "        \n"
   ]
  },
  {
   "cell_type": "code",
   "execution_count": 25,
   "metadata": {},
   "outputs": [],
   "source": [
    "policy = Policy().to(device)\n",
    "adam = optim.Adam(policy.parameters(), lr = 1e-2)"
   ]
  },
  {
   "cell_type": "code",
   "execution_count": 30,
   "metadata": {},
   "outputs": [],
   "source": [
    "def reinforce(n_episodes = 2000, max_t = 1000, gamma = 1, print_every = 100):\n",
    "    \n",
    "    \n",
    "    scores_deque = deque(maxlen = 100)\n",
    "    scores = []\n",
    "    \n",
    "    for i_episode in range(1,n_episodes+1):\n",
    "        \n",
    "        state = env.reset()\n",
    "        rewards = []\n",
    "        saved_log_probs = []\n",
    "        for t in range(max_t):\n",
    "            \n",
    "            action,log_prob = policy.act(state)\n",
    "            state, reward, done,_ = env.step(action)\n",
    "            rewards.append(reward) # here reward is an array \n",
    "            saved_log_probs.append(log_prob)\n",
    "            if done:\n",
    "                break\n",
    "        scores_deque.append(sum(rewards)) #here reward is an array so can be summed like an array\n",
    "        scores.append(sum(rewards))        # no need for tensor operations\n",
    "        \n",
    "        \n",
    "        discounts = [gamma**i for i in range(len(rewards)+1)]\n",
    "        R = sum([a*b for a,b in zip(discounts, rewards)])\n",
    "        \n",
    "        expected_U = []  # python list\n",
    "        for log_prob in saved_log_probs:  #  bcs we want to multiply each log_prob with -1 , R then append\n",
    "                                           # reason for not just using saved_log_probs\n",
    "            expected_U.append(-log_prob * R)  # log_prob is a tensor, so tensor operations must be done for concatenation\n",
    "        expected_U = torch.cat(expected_U).sum()  # cat to concatenate tensors in a python sequence\n",
    "        ## expectd_u is also a tensor\n",
    "        \n",
    "        adam.zero_grad()\n",
    "        expected_U.backward()\n",
    "        adam.step()\n",
    "        \n",
    "        if i_episode % print_every == 0:\n",
    "            print('Episode {}\\tAverage Score: {:.2f}'.format(i_episode, np.mean(scores_deque)))\n",
    "        if np.mean(scores_deque)>=195.0:\n",
    "            print('Environment solved in {:d} episodes!\\tAverage Score: {:.2f}'.format(i_episode-100, np.mean(scores_deque)))\n",
    "            break\n",
    "        \n",
    "    return scores\n",
    "        \n",
    "    \n",
    "    \n",
    "    \n",
    "    "
   ]
  },
  {
   "cell_type": "code",
   "execution_count": 31,
   "metadata": {},
   "outputs": [
    {
     "name": "stdout",
     "output_type": "stream",
     "text": [
      "Episode 100\tAverage Score: 55.52\n",
      "Episode 200\tAverage Score: 142.94\n",
      "Episode 300\tAverage Score: 76.18\n",
      "Episode 400\tAverage Score: 139.04\n",
      "Episode 500\tAverage Score: 140.09\n",
      "Episode 600\tAverage Score: 136.88\n",
      "Environment solved in 585 episodes!\tAverage Score: 195.21\n"
     ]
    }
   ],
   "source": [
    "scores = reinforce()"
   ]
  },
  {
   "cell_type": "code",
   "execution_count": 35,
   "metadata": {},
   "outputs": [
    {
     "data": {
      "text/plain": [
       "Text(0,0.5,'Scores')"
      ]
     },
     "execution_count": 35,
     "metadata": {},
     "output_type": "execute_result"
    },
    {
     "data": {
      "image/png": "[encoded data removed]",
      "text/plain": [
       "<Figure size 432x288 with 1 Axes>"
      ]
     },
     "metadata": {},
     "output_type": "display_data"
    }
   ],
   "source": [
    "fig = plt.figure()\n",
    "\n",
    "ax = fig.add_subplot(111)\n",
    "plt.plot(range(1,len(scores)+1), scores)\n",
    "plt.xlabel(\"# Episodes\")\n",
    "plt.ylabel(\"Scores\")"
   ]
  },
  {
   "cell_type": "code",
   "execution_count": null,
   "metadata": {},
   "outputs": [],
   "source": []
  }
 ],
 "metadata": {
  "kernelspec": {
   "display_name": "Python 3",
   "language": "python",
   "name": "python3"
  },
  "language_info": {
   "codemirror_mode": {
    "name": "ipython",
    "version": 3
   },
   "file_extension": ".py",
   "mimetype": "text/x-python",
   "name": "python",
   "nbconvert_exporter": "python",
   "pygments_lexer": "ipython3",
   "version": "3.6.5"
  }
 },
 "nbformat": 4,
 "nbformat_minor": 2
}
