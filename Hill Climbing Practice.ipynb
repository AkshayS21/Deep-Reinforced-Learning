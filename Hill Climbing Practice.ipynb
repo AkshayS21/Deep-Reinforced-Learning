{
 "cells": [
  {
   "cell_type": "code",
   "execution_count": 11,
   "metadata": {},
   "outputs": [],
   "source": [
    "import numpy as np\n",
    "from collections import deque\n",
    "import matplotlib.pyplot as plt\n",
    "import gym"
   ]
  },
  {
   "cell_type": "code",
   "execution_count": 12,
   "metadata": {},
   "outputs": [
    {
     "name": "stdout",
     "output_type": "stream",
     "text": [
      "4\n",
      "2\n"
     ]
    }
   ],
   "source": [
    "env = gym.make(\"CartPole-v0\")\n",
    "s_size = env.observation_space.shape\n",
    "\n",
    "a_size = env.action_space.n\n",
    "env.seed(0)\n",
    "print(*s_size)\n",
    "print(a_size)\n"
   ]
  },
  {
   "cell_type": "code",
   "execution_count": 13,
   "metadata": {},
   "outputs": [],
   "source": [
    "class Policy():\n",
    "    \n",
    "    def __init__(self,s_size = 4, a_size = 2):\n",
    "        \n",
    "        self.w = 1e-4*np.random.rand(s_size,a_size) # initial random policy only at creating an instance of policy\n",
    "        \n",
    "    def forward(self,state):\n",
    "        x = np.dot(state,self.w)\n",
    "        return np.exp(x)/(sum(np.exp(x)))\n",
    "    \n",
    "    def act(self,state):\n",
    "        \n",
    "        probs = self.forward(state)\n",
    "        #action = np.random.choice(2,p = probs)\n",
    "        action = np.argmax(probs)\n",
    "        return action\n",
    "    \n",
    "        \n",
    "        \n",
    "    "
   ]
  },
  {
   "cell_type": "code",
   "execution_count": 24,
   "metadata": {},
   "outputs": [],
   "source": [
    "policy = Policy()\n",
    "\n",
    "def hill(n_episodes = 1000, max_t = 1000, noise_level = 1e-3, print_every = 100, gamma = 1.0):\n",
    "    \n",
    "    scores_deque = deque(maxlen= 100)\n",
    "    scores = []\n",
    "    best_w = policy.w\n",
    "    best_R = -np.Inf\n",
    "    for i_episodes in range(1,n_episodes+1):\n",
    "        \n",
    "        state = env.reset()\n",
    "        rewards = []\n",
    "        for t in range(max_t):\n",
    "            action = policy.act(state)\n",
    "            state, reward, done,_ = env.step(action)\n",
    "            \n",
    "            rewards.append(reward)\n",
    "            if done:\n",
    "                break\n",
    "        scores.append(sum(rewards))\n",
    "        scores_deque.append(sum(rewards))\n",
    "            \n",
    "        discounts = [gamma**i for i in range(len(rewards)+1)]\n",
    "        R = sum([a*b for a,b in zip(rewards,discounts)])\n",
    "            \n",
    "        if R >= best_R:\n",
    "            best_R = R\n",
    "            best_w = policy.w\n",
    "            noise_level = max(1e-3, noise_level/2)\n",
    "            policy.w += noise_level * np.random.rand(*policy.w.shape)\n",
    "                \n",
    "        else:\n",
    "                \n",
    "            noise_level = min(2, noise_level * 2)\n",
    "            policy.w = best_w + noise_level * np.random.rand(*policy.w.shape)\n",
    "        \n",
    "        if i_episodes % print_every == 0:\n",
    "            print('Episodes: {}\\t Average score: {}'.format(i_episodes,np.mean(scores_deque)))\n",
    "            \n",
    "        if np.mean(scores_deque) >=195.0:\n",
    "            print('Environment solved in {} episodes with average score :{}'.format((i_episodes-100),np.mean(scores_deque)))\n",
    "            policy.w = best_w                        ## i-100 is done above bcs, we want how many episodes it took\n",
    "            break                                   ## after fresh start from 1 after previous 100 epsisodes                      \n",
    "        \n",
    "    return scores\n",
    "                \n",
    "            \n",
    "            \n",
    "            \n",
    "    \n",
    "    \n",
    "    \n",
    "    "
   ]
  },
  {
   "cell_type": "code",
   "execution_count": 25,
   "metadata": {},
   "outputs": [
    {
     "name": "stdout",
     "output_type": "stream",
     "text": [
      "Episodes: 100\t Average score: 176.29\n",
      "Environment solved in 13 episodes with average score :196.16\n"
     ]
    }
   ],
   "source": [
    "scores = hill()"
   ]
  },
  {
   "cell_type": "code",
   "execution_count": 32,
   "metadata": {},
   "outputs": [
    {
     "data": {
      "text/plain": [
       "<function matplotlib.pyplot.show(*args, **kw)>"
      ]
     },
     "execution_count": 32,
     "metadata": {},
     "output_type": "execute_result"
    },
    {
     "data": {
      "image/png": "[encoded data removed]",
      "text/plain": [
       "<Figure size 432x288 with 1 Axes>"
      ]
     },
     "metadata": {},
     "output_type": "display_data"
    }
   ],
   "source": [
    "## plot\n",
    "\n",
    "fig = plt.figure()\n",
    "ax = fig.add_subplot(111)\n",
    "plt.plot(np.arange(1,len(scores)+1), (scores))\n",
    "plt.xlabel(\"# Episodes\")\n",
    "plt.ylabel(\"Scores\")\n",
    "plt.show"
   ]
  },
  {
   "cell_type": "code",
   "execution_count": null,
   "metadata": {},
   "outputs": [],
   "source": [
    "env = gym.make('CartPole-v0')\n",
    "state = env.reset()\n",
    "img = plt.imshow(env.render(mode='rgb_array'))\n",
    "for t in range(200):\n",
    "    action = policy.act(state)\n",
    "    img.set_data(env.render(mode='rgb_array')) \n",
    "    plt.axis('off')\n",
    "    display.display(plt.gcf())\n",
    "    display.clear_output(wait=True)\n",
    "    state, reward, done, _ = env.step(action)\n",
    "    if done:\n",
    "        break \n",
    "\n",
    "env.close()"
   ]
  },
  {
   "cell_type": "code",
   "execution_count": null,
   "metadata": {},
   "outputs": [],
   "source": []
  }
 ],
 "metadata": {
  "kernelspec": {
   "display_name": "Python 3",
   "language": "python",
   "name": "python3"
  },
  "language_info": {
   "codemirror_mode": {
    "name": "ipython",
    "version": 3
   },
   "file_extension": ".py",
   "mimetype": "text/x-python",
   "name": "python",
   "nbconvert_exporter": "python",
   "pygments_lexer": "ipython3",
   "version": "3.6.5"
  }
 },
 "nbformat": 4,
 "nbformat_minor": 2
}
